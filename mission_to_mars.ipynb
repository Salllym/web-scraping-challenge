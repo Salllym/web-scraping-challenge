{
 "cells": [
  {
   "cell_type": "markdown",
   "id": "a7f076ed",
   "metadata": {},
   "source": [
    "# Part 1 - Scraping"
   ]
  },
  {
   "cell_type": "code",
   "execution_count": null,
   "id": "dad71093",
   "metadata": {},
   "outputs": [],
   "source": [
    "#Dependencies\n",
    "from splinter import Browser\n",
    "from splinter.exceptions import ElementDoesNotExist\n",
    "from bs4 import BeautifulSoup\n",
    "import pandas as pd\n",
    "import matplotlib.pyplot as plt\n",
    "import time\n",
    "import requests\n",
    "import pprint \n",
    "from IPython.display import Markdown, display"
   ]
  },
  {
   "cell_type": "markdown",
   "id": "f5ece08b",
   "metadata": {},
   "source": [
    "## Mac Users"
   ]
  },
  {
   "cell_type": "code",
   "execution_count": null,
   "id": "258fd95c",
   "metadata": {},
   "outputs": [],
   "source": [
    "# https://splinter.readthedocs.io/en/latest/drivers/chrome.html\n",
    "!which chromedriver"
   ]
  },
  {
   "cell_type": "code",
   "execution_count": null,
   "id": "48e5ae9d",
   "metadata": {},
   "outputs": [],
   "source": [
    "executable_path = {'executable_path': '/usr/local/bin/chromedriver'}\n",
    "browser = Browser('chrome', **executable_path, headless=False)"
   ]
  },
  {
   "cell_type": "code",
   "execution_count": null,
   "id": "a5afdeec",
   "metadata": {},
   "outputs": [],
   "source": [
    "# connect to NASA Mars news Site\n",
    "url = 'https://redplanetscience.com/'\n",
    "# Retrieve page with the requests module\n",
    "browser.visit(url)"
   ]
  },
  {
   "cell_type": "code",
   "execution_count": null,
   "id": "20a53dd5",
   "metadata": {},
   "outputs": [],
   "source": [
    "response = requests.get(url)\n",
    "response"
   ]
  },
  {
   "cell_type": "markdown",
   "id": "05ccc96d",
   "metadata": {},
   "source": [
    "### NASA Mars News\n",
    "Scrape the NASA Mars News Site and collect the latest News Title and Paragraph Text. Assign the text to variables that you can reference later."
   ]
  },
  {
   "cell_type": "code",
   "execution_count": null,
   "id": "3b4dae74",
   "metadata": {},
   "outputs": [],
   "source": [
    "# Create BeautifulSoup object; parse with 'html.parser'\n",
    "soup = BeautifulSoup(response.text, 'html.parser')\n",
    "\n",
    "# Examine the results, determine elements that contains sought info.\n",
    "print(soup.prettify())"
   ]
  },
  {
   "cell_type": "code",
   "execution_count": null,
   "id": "e33fbc32",
   "metadata": {},
   "outputs": [],
   "source": [
    "# Test: Result for an article from website\n",
    "news_title = soup.find('div', class_='content_title').a.text.strip()\n",
    "news_para = soup.find('div', class_='rollover_description_inner').text.strip()\n",
    "print(f'------------------------------------------------')\n",
    "print(f'TITLE: {news_title}')\n",
    "print(f'------------------------------------------------')\n",
    "print(f'PARAGRAPH: {news_para}')"
   ]
  },
  {
   "cell_type": "markdown",
   "id": "b15bd992",
   "metadata": {},
   "source": [
    "### JPL Mars Space Images - Featured Image"
   ]
  },
  {
   "cell_type": "code",
   "execution_count": null,
   "id": "af890fae",
   "metadata": {},
   "outputs": [],
   "source": [
    "# Visit the url for JPL Featured Space Image\n",
    "# Set URL\n",
    "url = 'https://spaceimages-mars.com/'\n",
    "browser.visit(url)"
   ]
  },
  {
   "cell_type": "code",
   "execution_count": null,
   "id": "4161536f",
   "metadata": {},
   "outputs": [],
   "source": [
    "# Use splinter to navigate the site and find the image url for the current Featured Mars Image \n",
    "featured_image = browser.find_by_id(\"full_image\")\n",
    "featured_image.click()"
   ]
  },
  {
   "cell_type": "code",
   "execution_count": null,
   "id": "3c8508fd",
   "metadata": {},
   "outputs": [],
   "source": [
    "# Need more info to find image url\n",
    "browser.is_element_present_by_text(\"more info\", wait_time=1)\n",
    "more_info_button = browser.links.find_by_partial_text(\"more info\")\n",
    "more_info_button.click()"
   ]
  },
  {
   "cell_type": "code",
   "execution_count": null,
   "id": "53072621",
   "metadata": {},
   "outputs": [],
   "source": [
    "# Parse Results HTML with BeautifulSoup\n",
    "html = browser.html\n",
    "image_soup = BeautifulSoup(html, 'html.parser')"
   ]
  },
  {
   "cell_type": "code",
   "execution_count": null,
   "id": "c19fa3b7",
   "metadata": {},
   "outputs": [],
   "source": [
    "# Assign the url string to a variable called `featured_image_url`\n",
    "# Make sure to find the image url to the full size `.jpg` image\n",
    "featured_image_url = image_soup.select_one(\"figure.lede a img\").get(\"src\")\n",
    "featured_image_url"
   ]
  },
  {
   "cell_type": "code",
   "execution_count": null,
   "id": "73dd504b",
   "metadata": {},
   "outputs": [],
   "source": [
    "# Make sure to save a complete url string for this image\n",
    "featured_image_url = f\"https://www.jpl.nasa.gov{featured_image_url}\"\n",
    "print(f\"Complete URL String:\\n{featured_image_url}\")"
   ]
  },
  {
   "cell_type": "markdown",
   "id": "af651ae7",
   "metadata": {},
   "source": [
    "### Mars Facts"
   ]
  },
  {
   "cell_type": "code",
   "execution_count": null,
   "id": "b31b2c4c",
   "metadata": {},
   "outputs": [],
   "source": [
    "# Visit the Mars Facts webpage\n",
    "# Set URL\n",
    "url = 'https://galaxyfacts-mars.com/'\n",
    "browser.visit(url)"
   ]
  },
  {
   "cell_type": "code",
   "execution_count": null,
   "id": "eb20a7a1",
   "metadata": {},
   "outputs": [],
   "source": [
    "# Use Pandas to scrape the table containing facts about the planet including Diameter, Mass, etc.\n",
    "mars_facts_df = pd.read_html(\"https://space-facts.com/mars/\")[0]\n",
    "print(mars_facts_df)"
   ]
  },
  {
   "cell_type": "code",
   "execution_count": null,
   "id": "b9cbbd98",
   "metadata": {},
   "outputs": [],
   "source": [
    "# Clean up DataFrame, set index\n",
    "mars_facts_df.columns=[\"Planet Profile\", \"Value\"]\n",
    "mars_facts_df.set_index(\"Planet Profile\", inplace=True)\n",
    "mars_facts_df"
   ]
  },
  {
   "cell_type": "markdown",
   "id": "68decbc2",
   "metadata": {},
   "source": [
    "### Mars Hemispheres"
   ]
  },
  {
   "cell_type": "code",
   "execution_count": null,
   "id": "7fcddac9",
   "metadata": {},
   "outputs": [],
   "source": [
    "# Visit the Astrogeology site\n",
    "# Set URL\n",
    "url = 'https://marshemispheres.com/'\n",
    "browser.visit(url)"
   ]
  },
  {
   "cell_type": "code",
   "execution_count": null,
   "id": "b842b428",
   "metadata": {},
   "outputs": [],
   "source": [
    "# Parse Results HTML with BeautifulSoup\n",
    "html = browser.html\n",
    "mars_weather_soup = BeautifulSoup(html, \"html.parser\")"
   ]
  },
  {
   "cell_type": "code",
   "execution_count": null,
   "id": "124e87a9",
   "metadata": {},
   "outputs": [],
   "source": [
    "# Save both the image url string for the full resolution hemisphere image, \n",
    "# and the Hemisphere title containing the hemisphere name\n",
    "hemisphere_img_urls = []\n",
    "\n",
    "links = browser.find_by_css(\"a.product-item h3\")\n",
    "for item in range(len(links)):\n",
    "    hemisphere = {}\n",
    "    \n",
    "    browser.find_by_css(\"a.product-item h3\")[item].click()\n",
    "    \n",
    "    sample_img = browser.links.find_by_text(\"Sample\").first\n",
    "    \n",
    "    hemisphere[\"title\"] = browser.find_by_css(\"h2.title\").text\n",
    "    hemisphere[\"img_url\"] = sample_img[\"href\"]     \n",
    "    \n",
    "    hemisphere_img_urls.append(hemisphere)\n",
    "    \n",
    "    browser.back()"
   ]
  },
  {
   "cell_type": "code",
   "execution_count": null,
   "id": "6c5c351d",
   "metadata": {},
   "outputs": [],
   "source": [
    "# Use a Python dictionary to store the data using the keys `img_url` and `title`\n",
    "hemisphere_img_urls"
   ]
  },
  {
   "cell_type": "code",
   "execution_count": null,
   "id": "04673566",
   "metadata": {},
   "outputs": [],
   "source": []
  }
 ],
 "metadata": {
  "kernelspec": {
   "display_name": "Python [conda env:PythonData38] *",
   "language": "python",
   "name": "conda-env-PythonData38-py"
  },
  "language_info": {
   "codemirror_mode": {
    "name": "ipython",
    "version": 3
   },
   "file_extension": ".py",
   "mimetype": "text/x-python",
   "name": "python",
   "nbconvert_exporter": "python",
   "pygments_lexer": "ipython3",
   "version": "3.8.13"
  }
 },
 "nbformat": 4,
 "nbformat_minor": 5
}
