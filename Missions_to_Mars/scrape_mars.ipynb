{
 "cells": [
  {
   "cell_type": "markdown",
   "id": "a7f076ed",
   "metadata": {},
   "source": [
    "# Part 1 - Scraping"
   ]
  },
  {
   "cell_type": "code",
   "execution_count": 1,
   "id": "dad71093",
   "metadata": {},
   "outputs": [],
   "source": [
    "#Dependencies\n",
    "from splinter import Browser\n",
    "from splinter.exceptions import ElementDoesNotExist\n",
    "from bs4 import BeautifulSoup\n",
    "import pandas as pd\n",
    "import matplotlib.pyplot as plt\n",
    "import time\n",
    "import requests\n",
    "import pprint \n",
    "from IPython.display import Markdown, display\n",
    "import pymongo\n",
    "from selenium import webdriver\n",
    "from webdriver_manager.chrome import ChromeDriverManager"
   ]
  },
  {
   "cell_type": "markdown",
   "id": "d5037933",
   "metadata": {},
   "source": [
    "### Mac Users"
   ]
  },
  {
   "cell_type": "code",
   "execution_count": 2,
   "id": "258fd95c",
   "metadata": {},
   "outputs": [],
   "source": [
    "# https://splinter.readthedocs.io/en/latest/drivers/chrome.html\n",
    "!which chromedriver"
   ]
  },
  {
   "cell_type": "code",
   "execution_count": 3,
   "id": "48e5ae9d",
   "metadata": {
    "scrolled": false
   },
   "outputs": [
    {
     "name": "stderr",
     "output_type": "stream",
     "text": [
      "\n",
      "\n",
      "====== WebDriver manager ======\n",
      "Current google-chrome version is 101.0.4951\n",
      "Get LATEST chromedriver version for 101.0.4951 google-chrome\n",
      "Driver [/Users/Sally/.wdm/drivers/chromedriver/mac64/101.0.4951.41/chromedriver] found in cache\n"
     ]
    }
   ],
   "source": [
    "executable_path = {'executable_path': ChromeDriverManager().install()}\n",
    "browser = Browser('chrome', **executable_path, headless=False)"
   ]
  },
  {
   "cell_type": "markdown",
   "id": "8cf97a3a",
   "metadata": {},
   "source": [
    "### NASA Mars News\n",
    "Scrape the NASA Mars News Site and collect the latest News Title and Paragraph Text. Assign the text to variables that you can reference later."
   ]
  },
  {
   "cell_type": "code",
   "execution_count": 4,
   "id": "14dfd23c",
   "metadata": {},
   "outputs": [],
   "source": [
    "def mars_news(): \n",
    "    # connect to NASA Mars news Site\n",
    "    url = 'https://redplanetscience.com/'\n",
    "\n",
    "    # Retrieve page with the requests module\n",
    "    browser.visit(url)\n",
    "\n",
    "    response = requests.get(url)\n",
    "\n",
    "    html=browser.html\n",
    "    # Create BeautifulSoup object; parse with 'html.parser'\n",
    "    soup = BeautifulSoup(html, 'html.parser')\n",
    "\n",
    "    # Examine the results, determine elements that contains sought info.\n",
    "    #print(soup.prettify())\n",
    "\n",
    "    article = soup.find(\"div\", class_ = \"list_text\")\n",
    "    news_title = article.find(\"div\", class_=\"content_title\").text\n",
    "    news_p = article.find(\"div\", class_=\"article_teaser_body\").text\n",
    "\n",
    "#     print(f'------------------------------------------------')\n",
    "#     print(f'TITLE: {news_title}')\n",
    "#     print(f'------------------------------------------------')\n",
    "#     print(f'PARAGRAPH: {news_p}')\n",
    "     \n",
    "    return news_title, news_p"
   ]
  },
  {
   "cell_type": "code",
   "execution_count": 5,
   "id": "b9f7c5b2",
   "metadata": {},
   "outputs": [
    {
     "data": {
      "text/plain": [
       "('Two of a Space Kind: Apollo 12 and Mars 2020',\n",
       " 'Apollo 12 and the upcoming Mars 2020 mission may be separated by half a century, but they share several goals unique in the annals of space exploration.')"
      ]
     },
     "execution_count": 5,
     "metadata": {},
     "output_type": "execute_result"
    }
   ],
   "source": [
    "mars_news()"
   ]
  },
  {
   "cell_type": "markdown",
   "id": "b15bd992",
   "metadata": {},
   "source": [
    "### JPL Mars Space Images - Featured Image"
   ]
  },
  {
   "cell_type": "code",
   "execution_count": 6,
   "id": "8e09ed42",
   "metadata": {},
   "outputs": [],
   "source": [
    "def featured_image():\n",
    "    # Visit the url for JPL Featured Space Image\n",
    "    # Set URL\n",
    "    url = 'https://spaceimages-mars.com/'\n",
    "    browser.visit(url)\n",
    "\n",
    "    html=browser.html\n",
    "    # Create BeautifulSoup object; parse with 'html.parser'\n",
    "    soup = BeautifulSoup(html, 'html.parser')\n",
    "\n",
    "    # Use splinter to navigate the site and find the image url for the current Featured Mars Image \n",
    "    browser.find_by_css(\"a.showimg\").first.click()\n",
    "    time.sleep(2)\n",
    "\n",
    "    #parse html page with BeautifulSoup\n",
    "    html=browser.html\n",
    "    # Create BeautifulSoup object; parse with 'html.parser'\n",
    "    soup = BeautifulSoup(html, 'html.parser')\n",
    "\n",
    "    # Need more info to find image url\n",
    "    image_url = browser.find_by_css(\"img.fancybox-image\")[\"src\"]\n",
    "    return image_url\n",
    "    "
   ]
  },
  {
   "cell_type": "code",
   "execution_count": 7,
   "id": "953a7c7f",
   "metadata": {},
   "outputs": [
    {
     "data": {
      "text/plain": [
       "'https://spaceimages-mars.com/image/featured/mars3.jpg'"
      ]
     },
     "execution_count": 7,
     "metadata": {},
     "output_type": "execute_result"
    }
   ],
   "source": [
    "featured_image()"
   ]
  },
  {
   "cell_type": "markdown",
   "id": "af651ae7",
   "metadata": {},
   "source": [
    "### Mars Facts"
   ]
  },
  {
   "cell_type": "code",
   "execution_count": 8,
   "id": "c1155264",
   "metadata": {},
   "outputs": [],
   "source": [
    "def mars_facts():\n",
    "    # Visit the Mars Facts webpage\n",
    "    # Set URL\n",
    "    url = 'https://galaxyfacts-mars.com/'\n",
    "    browser.visit(url)\n",
    "\n",
    "    # Use Pandas to scrape the table containing facts about the planet including Diameter, Mass, etc.\n",
    "    mars_facts_df = pd.read_html(\"https://space-facts.com/mars/\")[0]\n",
    "    #print(mars_facts_df)\n",
    "\n",
    "    # Clean up DataFrame, set index\n",
    "    mars_facts_df.columns=[\"Planet Profile\", \"Value\"]\n",
    "    mars_facts_df.set_index(\"Planet Profile\", inplace=True)\n",
    "    mars_facts_html_table = mars_facts_df.to_html()\n",
    "    mars_facts_html_table = mars_facts_html_table.replace('\\n','')\n",
    "    return mars_facts_html_table"
   ]
  },
  {
   "cell_type": "code",
   "execution_count": 9,
   "id": "f041173c",
   "metadata": {},
   "outputs": [
    {
     "data": {
      "text/plain": [
       "'<table border=\"1\" class=\"dataframe\">  <thead>    <tr style=\"text-align: right;\">      <th></th>      <th>Value</th>    </tr>    <tr>      <th>Planet Profile</th>      <th></th>    </tr>  </thead>  <tbody>    <tr>      <th>Equatorial Diameter:</th>      <td>6,792 km</td>    </tr>    <tr>      <th>Polar Diameter:</th>      <td>6,752 km</td>    </tr>    <tr>      <th>Mass:</th>      <td>6.39 × 10^23 kg (0.11 Earths)</td>    </tr>    <tr>      <th>Moons:</th>      <td>2 (Phobos &amp; Deimos)</td>    </tr>    <tr>      <th>Orbit Distance:</th>      <td>227,943,824 km (1.38 AU)</td>    </tr>    <tr>      <th>Orbit Period:</th>      <td>687 days (1.9 years)</td>    </tr>    <tr>      <th>Surface Temperature:</th>      <td>-87 to -5 °C</td>    </tr>    <tr>      <th>First Record:</th>      <td>2nd millennium BC</td>    </tr>    <tr>      <th>Recorded By:</th>      <td>Egyptian astronomers</td>    </tr>  </tbody></table>'"
      ]
     },
     "execution_count": 9,
     "metadata": {},
     "output_type": "execute_result"
    }
   ],
   "source": [
    "mars_facts()"
   ]
  },
  {
   "cell_type": "markdown",
   "id": "68decbc2",
   "metadata": {},
   "source": [
    "### Mars Hemispheres"
   ]
  },
  {
   "cell_type": "code",
   "execution_count": 10,
   "id": "b87c0056",
   "metadata": {},
   "outputs": [],
   "source": [
    "def hemisphere_image_urls():\n",
    "    # Visit the Astrogeology site\n",
    "    # Set URL\n",
    "    url = 'https://marshemispheres.com/'\n",
    "    browser.visit(url)\n",
    "\n",
    "    # Parse Results HTML with BeautifulSoup\n",
    "    html = browser.html\n",
    "    mars_weather_soup = BeautifulSoup(html, \"html.parser\")\n",
    "\n",
    "\n",
    "    # Save both the image url string for the full resolution hemisphere image, \n",
    "    # and the Hemisphere title containing the hemisphere name\n",
    "    soup1 = BeautifulSoup(html, \"html.parser\")\n",
    "    items = soup1.find_all(\"div\", class_=\"item\")\n",
    "\n",
    "    hemisphere_img_urls = []\n",
    "\n",
    "    for item in items:\n",
    "\n",
    "        title = item.find(\"h3\").text\n",
    "        link = item.find(\"a\", class_=\"itemLink\")[\"href\"]\n",
    "        hemispherelink = url + link\n",
    "        browser.visit(hemispherelink)\n",
    "        hemispherehtml = browser.html\n",
    "\n",
    "        soup2 = BeautifulSoup(hemispherehtml, \"lxml\")\n",
    "        image = soup2.find(\"img\", class_=\"wide-image\")[\"src\"]\n",
    "        imageurl = url + image\n",
    "        hemisphere = {}\n",
    "\n",
    "        hemisphere_img_urls.append({\"title\":title,\"img_url\":imageurl})\n",
    "\n",
    "        browser.back()\n",
    "\n",
    "\n",
    "    # Use a Python dictionary to store the data using the keys `img_url` and `title`\n",
    "    return hemisphere_img_urls"
   ]
  },
  {
   "cell_type": "code",
   "execution_count": 11,
   "id": "52eba5a4",
   "metadata": {},
   "outputs": [
    {
     "data": {
      "text/plain": [
       "[{'title': 'Cerberus Hemisphere Enhanced',\n",
       "  'img_url': 'https://marshemispheres.com/images/f5e372a36edfa389625da6d0cc25d905_cerberus_enhanced.tif_full.jpg'},\n",
       " {'title': 'Schiaparelli Hemisphere Enhanced',\n",
       "  'img_url': 'https://marshemispheres.com/images/3778f7b43bbbc89d6e3cfabb3613ba93_schiaparelli_enhanced.tif_full.jpg'},\n",
       " {'title': 'Syrtis Major Hemisphere Enhanced',\n",
       "  'img_url': 'https://marshemispheres.com/images/555e6403a6ddd7ba16ddb0e471cadcf7_syrtis_major_enhanced.tif_full.jpg'},\n",
       " {'title': 'Valles Marineris Hemisphere Enhanced',\n",
       "  'img_url': 'https://marshemispheres.com/images/b3c7c6c9138f57b4756be9b9c43e3a48_valles_marineris_enhanced.tif_full.jpg'}]"
      ]
     },
     "execution_count": 11,
     "metadata": {},
     "output_type": "execute_result"
    }
   ],
   "source": [
    "hemisphere_image_urls()"
   ]
  },
  {
   "cell_type": "markdown",
   "id": "ccdfc92b",
   "metadata": {},
   "source": [
    "#### Scrape code from above and return one Python dictionary containing all scraped data"
   ]
  },
  {
   "cell_type": "code",
   "execution_count": 12,
   "id": "726202d1",
   "metadata": {},
   "outputs": [],
   "source": [
    "# Scrape All\n",
    "def scrape_all():\n",
    "    # Initiate headless driver for deployment\n",
    "#     executable_path = {\"executable_path\": \"chromedriver\"}\n",
    "    browser = Browser(\"chrome\", **executable_path, headless=False)\n",
    "    news_title, news_p = mars_news()\n",
    "#     image_url = featured_image()\n",
    "#     mars_facts_df = mars_facts()\n",
    "#     hemisphere_img_urls = hemisphere_img_urls()\n",
    "\n",
    "     # Run all scraping functions and store results in a dictionary\n",
    "    mars_data = {\n",
    "        \"news_title\": news_title,\n",
    "         \"news_p\": news_p,\n",
    "        \"featured_image\": featured_image(),\n",
    "        \"mars_facts\": mars_facts(),\n",
    "        \"hemispheres\": hemisphere_image_urls()}\n",
    "    \n",
    "#     browser.quit()\n",
    "    \n",
    "    return mars_data\n"
   ]
  },
  {
   "cell_type": "code",
   "execution_count": 13,
   "id": "35aa4859",
   "metadata": {},
   "outputs": [],
   "source": [
    "mars_data = scrape_all() "
   ]
  },
  {
   "cell_type": "code",
   "execution_count": 14,
   "id": "e3c37c21",
   "metadata": {},
   "outputs": [
    {
     "data": {
      "text/plain": [
       "{'news_title': \"Deadline Closing for Names to Fly on NASA's Next Mars Rover\",\n",
       " 'news_p': 'You have until Sept. 30 to send your names to Mars aboard the Mars 2020 rover. ',\n",
       " 'featured_image': 'https://spaceimages-mars.com/image/featured/mars1.jpg',\n",
       " 'mars_facts': '<table border=\"1\" class=\"dataframe\">  <thead>    <tr style=\"text-align: right;\">      <th></th>      <th>Value</th>    </tr>    <tr>      <th>Planet Profile</th>      <th></th>    </tr>  </thead>  <tbody>    <tr>      <th>Equatorial Diameter:</th>      <td>6,792 km</td>    </tr>    <tr>      <th>Polar Diameter:</th>      <td>6,752 km</td>    </tr>    <tr>      <th>Mass:</th>      <td>6.39 × 10^23 kg (0.11 Earths)</td>    </tr>    <tr>      <th>Moons:</th>      <td>2 (Phobos &amp; Deimos)</td>    </tr>    <tr>      <th>Orbit Distance:</th>      <td>227,943,824 km (1.38 AU)</td>    </tr>    <tr>      <th>Orbit Period:</th>      <td>687 days (1.9 years)</td>    </tr>    <tr>      <th>Surface Temperature:</th>      <td>-87 to -5 °C</td>    </tr>    <tr>      <th>First Record:</th>      <td>2nd millennium BC</td>    </tr>    <tr>      <th>Recorded By:</th>      <td>Egyptian astronomers</td>    </tr>  </tbody></table>',\n",
       " 'hemispheres': [{'title': 'Cerberus Hemisphere Enhanced',\n",
       "   'img_url': 'https://marshemispheres.com/images/f5e372a36edfa389625da6d0cc25d905_cerberus_enhanced.tif_full.jpg'},\n",
       "  {'title': 'Schiaparelli Hemisphere Enhanced',\n",
       "   'img_url': 'https://marshemispheres.com/images/3778f7b43bbbc89d6e3cfabb3613ba93_schiaparelli_enhanced.tif_full.jpg'},\n",
       "  {'title': 'Syrtis Major Hemisphere Enhanced',\n",
       "   'img_url': 'https://marshemispheres.com/images/555e6403a6ddd7ba16ddb0e471cadcf7_syrtis_major_enhanced.tif_full.jpg'},\n",
       "  {'title': 'Valles Marineris Hemisphere Enhanced',\n",
       "   'img_url': 'https://marshemispheres.com/images/b3c7c6c9138f57b4756be9b9c43e3a48_valles_marineris_enhanced.tif_full.jpg'}]}"
      ]
     },
     "execution_count": 14,
     "metadata": {},
     "output_type": "execute_result"
    }
   ],
   "source": [
    "mars_data"
   ]
  },
  {
   "cell_type": "code",
   "execution_count": 15,
   "id": "ec3ec4e2",
   "metadata": {},
   "outputs": [],
   "source": [
    "# Initialize PyMongo to work with MongoDBs\n",
    "conn = 'mongodb://localhost:27017'\n",
    "client = pymongo.MongoClient(conn)"
   ]
  },
  {
   "cell_type": "code",
   "execution_count": 16,
   "id": "1c0fc284",
   "metadata": {},
   "outputs": [],
   "source": [
    "# Define database and collection\n",
    "db = client.mars\n",
    "collection = db.mars"
   ]
  },
  {
   "cell_type": "code",
   "execution_count": 17,
   "id": "454253b9",
   "metadata": {},
   "outputs": [
    {
     "data": {
      "text/plain": [
       "<pymongo.results.InsertOneResult at 0x7f87f28ff880>"
      ]
     },
     "execution_count": 17,
     "metadata": {},
     "output_type": "execute_result"
    }
   ],
   "source": [
    "# Dictionary to be inserted as a MongoDB document\n",
    "collection.insert_one(mars_data)"
   ]
  },
  {
   "cell_type": "code",
   "execution_count": 18,
   "id": "864b76ba",
   "metadata": {},
   "outputs": [
    {
     "name": "stdout",
     "output_type": "stream",
     "text": [
      "{'_id': ObjectId('6288feb95f406582c26ce489'), 'news_title': \"Deadline Closing for Names to Fly on NASA's Next Mars Rover\", 'news_p': 'You have until Sept. 30 to send your names to Mars aboard the Mars 2020 rover. ', 'featured_image': 'https://spaceimages-mars.com/image/featured/mars1.jpg', 'mars_facts': '<table border=\"1\" class=\"dataframe\">  <thead>    <tr style=\"text-align: right;\">      <th></th>      <th>Value</th>    </tr>    <tr>      <th>Planet Profile</th>      <th></th>    </tr>  </thead>  <tbody>    <tr>      <th>Equatorial Diameter:</th>      <td>6,792 km</td>    </tr>    <tr>      <th>Polar Diameter:</th>      <td>6,752 km</td>    </tr>    <tr>      <th>Mass:</th>      <td>6.39 × 10^23 kg (0.11 Earths)</td>    </tr>    <tr>      <th>Moons:</th>      <td>2 (Phobos &amp; Deimos)</td>    </tr>    <tr>      <th>Orbit Distance:</th>      <td>227,943,824 km (1.38 AU)</td>    </tr>    <tr>      <th>Orbit Period:</th>      <td>687 days (1.9 years)</td>    </tr>    <tr>      <th>Surface Temperature:</th>      <td>-87 to -5 °C</td>    </tr>    <tr>      <th>First Record:</th>      <td>2nd millennium BC</td>    </tr>    <tr>      <th>Recorded By:</th>      <td>Egyptian astronomers</td>    </tr>  </tbody></table>', 'hemispheres': [{'title': 'Cerberus Hemisphere Enhanced', 'img_url': 'https://marshemispheres.com/images/f5e372a36edfa389625da6d0cc25d905_cerberus_enhanced.tif_full.jpg'}, {'title': 'Schiaparelli Hemisphere Enhanced', 'img_url': 'https://marshemispheres.com/images/3778f7b43bbbc89d6e3cfabb3613ba93_schiaparelli_enhanced.tif_full.jpg'}, {'title': 'Syrtis Major Hemisphere Enhanced', 'img_url': 'https://marshemispheres.com/images/555e6403a6ddd7ba16ddb0e471cadcf7_syrtis_major_enhanced.tif_full.jpg'}, {'title': 'Valles Marineris Hemisphere Enhanced', 'img_url': 'https://marshemispheres.com/images/b3c7c6c9138f57b4756be9b9c43e3a48_valles_marineris_enhanced.tif_full.jpg'}]}\n"
     ]
    }
   ],
   "source": [
    "# Display items in MongoDB collection\n",
    "listings = db.mars.find()\n",
    "\n",
    "for listing in listings:\n",
    "    print(listing)"
   ]
  },
  {
   "cell_type": "code",
   "execution_count": null,
   "id": "fa33fe49",
   "metadata": {},
   "outputs": [],
   "source": []
  }
 ],
 "metadata": {
  "kernelspec": {
   "display_name": "Python [conda env:PythonData38a] *",
   "language": "python",
   "name": "conda-env-PythonData38a-py"
  },
  "language_info": {
   "codemirror_mode": {
    "name": "ipython",
    "version": 3
   },
   "file_extension": ".py",
   "mimetype": "text/x-python",
   "name": "python",
   "nbconvert_exporter": "python",
   "pygments_lexer": "ipython3",
   "version": "3.8.12"
  }
 },
 "nbformat": 4,
 "nbformat_minor": 5
}
