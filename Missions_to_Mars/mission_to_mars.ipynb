{
 "cells": [
  {
   "cell_type": "markdown",
   "id": "a7f076ed",
   "metadata": {},
   "source": [
    "# Part 1 - Scraping"
   ]
  },
  {
   "cell_type": "code",
   "execution_count": null,
   "id": "dad71093",
   "metadata": {},
   "outputs": [],
   "source": [
    "#Dependencies\n",
    "from splinter import Browser\n",
    "from splinter.exceptions import ElementDoesNotExist\n",
    "from bs4 import BeautifulSoup\n",
    "import pandas as pd\n",
    "import matplotlib.pyplot as plt\n",
    "import time\n",
    "import requests\n",
    "import pprint \n",
    "from IPython.display import Markdown, display\n",
    "import pymongo\n",
    "from selenium import webdriver\n",
    "from webdriver_manager.chrome import ChromeDriverManager"
   ]
  },
  {
   "cell_type": "markdown",
   "id": "d5037933",
   "metadata": {},
   "source": [
    "### Mac Users"
   ]
  },
  {
   "cell_type": "code",
   "execution_count": null,
   "id": "258fd95c",
   "metadata": {},
   "outputs": [],
   "source": [
    "# https://splinter.readthedocs.io/en/latest/drivers/chrome.html\n",
    "!which chromedriver"
   ]
  },
  {
   "cell_type": "code",
   "execution_count": null,
   "id": "48e5ae9d",
   "metadata": {
    "scrolled": true
   },
   "outputs": [],
   "source": [
    "executable_path = {'executable_path': ChromeDriverManager().install()}\n",
    "browser = Browser('chrome', **executable_path, headless=False)"
   ]
  },
  {
   "cell_type": "markdown",
   "id": "8cf97a3a",
   "metadata": {},
   "source": [
    "### NASA Mars News\n",
    "Scrape the NASA Mars News Site and collect the latest News Title and Paragraph Text. Assign the text to variables that you can reference later."
   ]
  },
  {
   "cell_type": "code",
   "execution_count": null,
   "id": "a5afdeec",
   "metadata": {},
   "outputs": [],
   "source": [
    "# connect to NASA Mars news Site\n",
    "url = 'https://redplanetscience.com/'\n",
    "\n",
    "# Retrieve page with the requests module\n",
    "browser.visit(url)"
   ]
  },
  {
   "cell_type": "code",
   "execution_count": null,
   "id": "20a53dd5",
   "metadata": {
    "scrolled": true
   },
   "outputs": [],
   "source": [
    "response = requests.get(url)\n",
    "response"
   ]
  },
  {
   "cell_type": "code",
   "execution_count": null,
   "id": "3b4dae74",
   "metadata": {},
   "outputs": [],
   "source": [
    "html=browser.html\n",
    "# Create BeautifulSoup object; parse with 'html.parser'\n",
    "soup = BeautifulSoup(html, 'html.parser')\n",
    "\n",
    "# Examine the results, determine elements that contains sought info.\n",
    "print(soup.prettify())"
   ]
  },
  {
   "cell_type": "code",
   "execution_count": null,
   "id": "e33fbc32",
   "metadata": {
    "scrolled": true
   },
   "outputs": [],
   "source": [
    "article = soup.find(\"div\", class_ = \"list_text\")\n",
    "news_title = article.find(\"div\", class_=\"content_title\").text\n",
    "news_p = article.find(\"div\", class_=\"article_teaser_body\").text\n",
    "\n",
    "print(f'------------------------------------------------')\n",
    "print(f'TITLE: {news_title}')\n",
    "print(f'------------------------------------------------')\n",
    "print(f'PARAGRAPH: {news_p}')"
   ]
  },
  {
   "cell_type": "markdown",
   "id": "b15bd992",
   "metadata": {},
   "source": [
    "### JPL Mars Space Images - Featured Image"
   ]
  },
  {
   "cell_type": "code",
   "execution_count": null,
   "id": "af890fae",
   "metadata": {},
   "outputs": [],
   "source": [
    "# Visit the url for JPL Featured Space Image\n",
    "# Set URL\n",
    "url = 'https://spaceimages-mars.com/'\n",
    "browser.visit(url)"
   ]
  },
  {
   "cell_type": "code",
   "execution_count": null,
   "id": "f4374ca5",
   "metadata": {},
   "outputs": [],
   "source": [
    "html=browser.html\n",
    "# Create BeautifulSoup object; parse with 'html.parser'\n",
    "soup = BeautifulSoup(html, 'html.parser')"
   ]
  },
  {
   "cell_type": "code",
   "execution_count": null,
   "id": "4161536f",
   "metadata": {},
   "outputs": [],
   "source": [
    "# Use splinter to navigate the site and find the image url for the current Featured Mars Image \n",
    "browser.find_by_css(\"a.showimg\").first.click()\n",
    "time.sleep(2)"
   ]
  },
  {
   "cell_type": "code",
   "execution_count": null,
   "id": "5c3fc99f",
   "metadata": {},
   "outputs": [],
   "source": [
    "#parse html page with BeautifulSoup\n",
    "html=browser.html\n",
    "# Create BeautifulSoup object; parse with 'html.parser'\n",
    "soup = BeautifulSoup(html, 'html.parser')"
   ]
  },
  {
   "cell_type": "code",
   "execution_count": null,
   "id": "3c8508fd",
   "metadata": {},
   "outputs": [],
   "source": [
    "# Need more info to find image url\n",
    "image_url = browser.find_by_css(\"img.fancybox-image\")[\"src\"]\n",
    "image_url"
   ]
  },
  {
   "cell_type": "markdown",
   "id": "af651ae7",
   "metadata": {},
   "source": [
    "### Mars Facts"
   ]
  },
  {
   "cell_type": "code",
   "execution_count": null,
   "id": "b31b2c4c",
   "metadata": {},
   "outputs": [],
   "source": [
    "# Visit the Mars Facts webpage\n",
    "# Set URL\n",
    "url = 'https://galaxyfacts-mars.com/'\n",
    "browser.visit(url)"
   ]
  },
  {
   "cell_type": "code",
   "execution_count": null,
   "id": "eb20a7a1",
   "metadata": {},
   "outputs": [],
   "source": [
    "# Use Pandas to scrape the table containing facts about the planet including Diameter, Mass, etc.\n",
    "mars_facts_df = pd.read_html(\"https://space-facts.com/mars/\")[0]\n",
    "print(mars_facts_df)"
   ]
  },
  {
   "cell_type": "code",
   "execution_count": null,
   "id": "b9cbbd98",
   "metadata": {},
   "outputs": [],
   "source": [
    "# Clean up DataFrame, set index\n",
    "mars_facts_df.columns=[\"Planet Profile\", \"Value\"]\n",
    "mars_facts_df.set_index(\"Planet Profile\", inplace=True)\n",
    "mars_facts_df"
   ]
  },
  {
   "cell_type": "markdown",
   "id": "68decbc2",
   "metadata": {},
   "source": [
    "### Mars Hemispheres"
   ]
  },
  {
   "cell_type": "code",
   "execution_count": null,
   "id": "add9fd3b",
   "metadata": {},
   "outputs": [],
   "source": [
    "# Visit the Astrogeology site\n",
    "# Set URL\n",
    "url = 'https://marshemispheres.com/'\n",
    "browser.visit(url)"
   ]
  },
  {
   "cell_type": "code",
   "execution_count": null,
   "id": "4ce6522a",
   "metadata": {},
   "outputs": [],
   "source": [
    "# Parse Results HTML with BeautifulSoup\n",
    "html = browser.html\n",
    "mars_weather_soup = BeautifulSoup(html, \"html.parser\")"
   ]
  },
  {
   "cell_type": "code",
   "execution_count": null,
   "id": "0d870395",
   "metadata": {},
   "outputs": [],
   "source": [
    "# Save both the image url string for the full resolution hemisphere image, \n",
    "# and the Hemisphere title containing the hemisphere name\n",
    "\n",
    "\n",
    "soup1 = BeautifulSoup(html, \"html.parser\")\n",
    "items = soup1.find_all(\"div\", class_=\"item\")\n",
    "\n",
    "hemisphere_img_urls = []\n",
    "\n",
    "for item in items:\n",
    "    \n",
    "    title = item.find(\"h3\").text\n",
    "    link = item.find(\"a\", class_=\"itemLink\")[\"href\"]\n",
    "    hemispherelink = url + link\n",
    "    browser.visit(hemispherelink)\n",
    "    hemispherehtml = browser.html\n",
    "    \n",
    "    soup2 = BeautifulSoup(hemispherehtml, \"lxml\")\n",
    "    image = soup2.find(\"img\", class_=\"wide-image\")[\"src\"]\n",
    "    imageurl = url + image\n",
    "    hemisphere = {}\n",
    "\n",
    "    hemisphere_img_urls.append({\"title\":title,\"img_url\":imageurl})\n",
    "\n",
    "    browser.back()\n"
   ]
  },
  {
   "cell_type": "code",
   "execution_count": null,
   "id": "f93d45f1",
   "metadata": {},
   "outputs": [],
   "source": [
    "# Use a Python dictionary to store the data using the keys `img_url` and `title`\n",
    "hemisphere_img_urls"
   ]
  },
  {
   "cell_type": "code",
   "execution_count": null,
   "id": "04673566",
   "metadata": {},
   "outputs": [],
   "source": [
    "# Scrape All\n",
    "def scrape_all():\n",
    "    executable_path = {\"executable_path\": \"chromedriver\"}\n",
    "    browser = Browser(\"chrome\", **executable_path, headless=False)\n",
    "    news_title, news_p = mars_news(browser)\n",
    "    featured_image_url = featured_image(browser)\n",
    "    facts = mars_facts()\n",
    "    hemisphere_image_urls = hemispheres(browser)\n",
    "    timestamp = dt.datetime.now()"
   ]
  },
  {
   "cell_type": "code",
   "execution_count": null,
   "id": "9c1475de",
   "metadata": {},
   "outputs": [],
   "source": [
    "  mars_data = {\n",
    "        \"news_title\": news_title,\n",
    "        \"news_p\": news_p,\n",
    "        \"featured_image\": image_url,\n",
    "        \"facts\": mars_facts_df,\n",
    "        \"hemispheres\": hemisphere_image_urls,\n",
    "        \"last_modified\": timestamp\n",
    "    }"
   ]
  },
  {
   "cell_type": "code",
   "execution_count": null,
   "id": "5f87d323",
   "metadata": {},
   "outputs": [],
   "source": [
    "browser.quit()"
   ]
  }
 ],
 "metadata": {
  "kernelspec": {
   "display_name": "Python [conda env:PythonData38] *",
   "language": "python",
   "name": "conda-env-PythonData38-py"
  },
  "language_info": {
   "codemirror_mode": {
    "name": "ipython",
    "version": 3
   },
   "file_extension": ".py",
   "mimetype": "text/x-python",
   "name": "python",
   "nbconvert_exporter": "python",
   "pygments_lexer": "ipython3",
   "version": "3.8.13"
  }
 },
 "nbformat": 4,
 "nbformat_minor": 5
}
